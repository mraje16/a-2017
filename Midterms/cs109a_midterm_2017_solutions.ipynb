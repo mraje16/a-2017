{
 "cells": [
  {
   "cell_type": "markdown",
   "metadata": {},
   "source": [
    "# CS 109A/STAT 121A/AC 209A/CSCI E-109A: \n",
    "# Midterm - 2017\n",
    "\n",
    "**Harvard University**<br/>\n",
    "**Fall 2017**<br/>\n",
    "**Instructors**: Pavlos Protopapas, Kevin Rader, Rahul Dave, Margo Levine\n",
    "\n",
    "---\n",
    "\n",
    "### INSTRUCTIONS\n",
    "\n",
    "\n",
    "- You must submit the Midterm on your own. ** No group submissions are allowed**. You may use any print or online resources but ** you may not work or consult with others**.\n",
    "- Restart the kernel and run the whole notebook again before you submit. \n",
    "- Please submit both a notebook and a pdf.\n",
    " \n",
    "\n",
    "---\n",
    "\n",
    "Note that these solutions represent one way of doing this midterm, there are multiple ways, all equally correct, and we have graded each submission individually taking this into account."
   ]
  },
  {
   "cell_type": "markdown",
   "metadata": {},
   "source": [
    "\n",
    "## Flight Delays\n",
    "\n",
    "The U.S. Department of Transportation's (DOT) Bureau of Transportation Statistics tracks the on-time performance of domestic flights operated by large air carriers. Summary information on the number of on-time, delayed, canceled, and diverted flights are published in DOT's monthly Air Travel Consumer Report and in this dataset of 2015 flight delays and cancellations.\n",
    "\n",
    "\n",
    "## Data\n",
    "Each entry of the flights.csv file corresponds to a flight.  More than 5,800,000 flights were recorded in 2015. These flights are described according to 31 variables. Further details of these variables can be found <a href='https://www.transtats.bts.gov/DL_SelectFields.asp?Table_ID=236&DB_Short_Name=On-Time'>here</a>, if you are interested (not needed to answer these questions). \n",
    "\n",
    "\n",
    " \n",
    "\n",
    "|          Name          | Type | DESCRIPTION |\n",
    "|--------------------------------|---|----------------------------------------------------------------------|\n",
    "| DATE                     | object | The date in python datetime format |\n",
    "| MONTH                     | int64 | The month of the year(1-12) |\n",
    "| DAY                       | int64 | The day of the month |\n",
    "| DAY_OF_WEEK               | int64 | The day of the week(1-7, MON-SUN) |\n",
    "| AIRLINE                  | object | An identifier for the airline |\n",
    "| FLIGHT_NUMBER             | int64 | The flight number |\n",
    "| TAIL_NUMBER              | object | The tail number (aircraft) corresponding to this flight |\n",
    "| ORIGIN_AIRPORT           | object | The code for origin airport |\n",
    "| DESTINATION_AIRPORT      | object | The code for destination airport |\n",
    "| SCHED_DEP                | object | The departure time in python datetime.time format |\n",
    "| SCHED_ARR                | object | The arrival time in python datetime.time format |\n",
    "| DEPARTURE_DELAY         |  float64| The delay incurred at the origin  (mins) |\n",
    "| ARRIVAL_DELAY           | float64 | The delay when the flight reached the (mins) destination |\n",
    "| DISTANCE                  | int64 | Distance in miles between origin and destination |\n",
    "| SCHEDULED_TIME          | float64 | Scheduled time of flight (minutes) |\n",
    "| ELAPSED_TIME            | float64 | Actual time of flight (minutes) |\n",
    "| AIR_SYSTEM_DELAY        | float64 | What part of the delay was NASD?(mins) |\n",
    "| SECURITY_DELAY          | float64 | What part of the delay was due to security problems? (mins) |\n",
    "| AIRLINE_DELAY           | float64 | What part of the delay is due to the airline? (mins) |\n",
    "| LATE_AIRCRAFT_DELAY     | float64 | What part of the delay is due to previous flight(s) being late(mins) |\n",
    "| WEATHER_DELAY           | float64 | Delay due to extreme weather events(min) |\n",
    "\n",
    "You can read more about the various weather delays [here](https://www.rita.dot.gov/bts/help/aviation/html/understanding.html) if you are so inclined.\n",
    "\n",
    "\n",
    "\n",
    "## Data/Caveats\n",
    "\n",
    "The data file, flights.csv, is found <a href=\"https://drive.google.com/file/d/0B9dVesTppCgHY0IwZHk3SGhjd00/view?usp=sharing\">here</a> (note, it is about 70MB). \n",
    "\n",
    "This data is already preprocessed, reduced, partially cleaned and therefore not identical to the original dataset."
   ]
  },
  {
   "cell_type": "code",
   "execution_count": 6,
   "metadata": {
    "collapsed": true
   },
   "outputs": [],
   "source": [
    "# the usual imports:\n",
    "import numpy as np\n",
    "import pandas as pd\n",
    "import sklearn as sk\n",
    "import matplotlib\n",
    "import matplotlib.pyplot as plt\n",
    "from sklearn.linear_model import LogisticRegressionCV\n",
    "import sklearn.metrics as metrics\n",
    "from sklearn.preprocessing import PolynomialFeatures\n",
    "from sklearn.preprocessing import OneHotEncoder\n",
    "from sklearn.discriminant_analysis import LinearDiscriminantAnalysis\n",
    "from sklearn.discriminant_analysis import QuadraticDiscriminantAnalysis\n",
    "from sklearn.neighbors import KNeighborsClassifier\n",
    "from sklearn.tree import DecisionTreeClassifier\n",
    "from sklearn.model_selection import cross_val_score\n",
    "#import pydotplus\n",
    "#import io\n",
    "from sklearn.tree import export_graphviz\n",
    "from IPython.display import Image\n",
    "from IPython.display import display\n",
    "%matplotlib inline"
   ]
  },
  {
   "cell_type": "code",
   "execution_count": 9,
   "metadata": {},
   "outputs": [
    {
     "data": {
      "text/plain": [
       "['DATE',\n",
       " 'MONTH',\n",
       " 'DAY',\n",
       " 'DAY_OF_WEEK',\n",
       " 'AIRLINE',\n",
       " 'FLIGHT_NUMBER',\n",
       " 'TAIL_NUMBER',\n",
       " 'ORIGIN_AIRPORT',\n",
       " 'DESTINATION_AIRPORT',\n",
       " 'SCHED_DEP',\n",
       " 'SCHED_ARR',\n",
       " 'DEPARTURE_DELAY',\n",
       " 'ARRIVAL_DELAY',\n",
       " 'CANCELLED',\n",
       " 'DIVERTED',\n",
       " 'DISTANCE',\n",
       " 'SCHEDULED_TIME',\n",
       " 'ELAPSED_TIME',\n",
       " 'AIR_SYSTEM_DELAY',\n",
       " 'SECURITY_DELAY',\n",
       " 'AIRLINE_DELAY',\n",
       " 'LATE_AIRCRAFT_DELAY',\n",
       " 'WEATHER_DELAY',\n",
       " 'DELAY_MIN',\n",
       " 'DEP_DAYFRAC']"
      ]
     },
     "execution_count": 9,
     "metadata": {},
     "output_type": "execute_result"
    }
   ],
   "source": [
    "# read in the full data and look at the header \n",
    "flightdata=pd.read_csv(\"/Users/pavlos/GDrive_G/CS109a/2017/Midterm_playground/cs109_midterm_flightdata.csv\")\n",
    "flightdata.head()\n",
    "list(flightdata)"
   ]
  },
  {
   "cell_type": "markdown",
   "metadata": {},
   "source": [
    "## Problem Description"
   ]
  },
  {
   "cell_type": "markdown",
   "metadata": {},
   "source": [
    "We will build two separate models: one model that classifies whether a flight will be delayed and a second model that predicts the length of delay given that a flight is truly delayed. Only consider models taught in class so far. \n",
    "\n",
    "** Consider the following: **\n",
    "This is a large dataset; think of strategies on how to solve this problem. Create a manageable subsample of the data that you can use to train and test/validate, but eventually you should predict on all the data (excluding the training set).\n",
    "\n",
    "### Questions\n"
   ]
  },
  {
   "cell_type": "markdown",
   "metadata": {},
   "source": [
    "1..(5pts) Create a new variable, `DELAY_OR_NOT`: a boolean/indicator variable which indicates any arrival delay under 15 mins as a 0, and any delay at or above 15 mins as a 1 (`ARRIVAL_DELAY >= 15`)."
   ]
  },
  {
   "cell_type": "code",
   "execution_count": 10,
   "metadata": {},
   "outputs": [
    {
     "data": {
      "text/plain": [
       "0.10200374934311955"
      ]
     },
     "execution_count": 10,
     "metadata": {},
     "output_type": "execute_result"
    }
   ],
   "source": [
    "# creating the variable, then checking the proportion of flights that are delayed.  About 10.2% in the entire data set\n",
    "DELAY_OR_NOT = 1*(flightdata['ARRIVAL_DELAY']>=15)\n",
    "flightdata['DELAY_OR_NOT'] = DELAY_OR_NOT\n",
    "np.mean(DELAY_OR_NOT)"
   ]
  },
  {
   "cell_type": "markdown",
   "metadata": {},
   "source": [
    "---"
   ]
  },
  {
   "cell_type": "markdown",
   "metadata": {},
   "source": [
    "2..(5pts) Make sure you understand the data variable descriptions before you start the analysis. Consider all the columns and determine and list which of these predictors should not be used. "
   ]
  },
  {
   "cell_type": "code",
   "execution_count": 11,
   "metadata": {},
   "outputs": [
    {
     "data": {
      "text/html": [
       "<div>\n",
       "<style>\n",
       "    .dataframe thead tr:only-child th {\n",
       "        text-align: right;\n",
       "    }\n",
       "\n",
       "    .dataframe thead th {\n",
       "        text-align: left;\n",
       "    }\n",
       "\n",
       "    .dataframe tbody tr th {\n",
       "        vertical-align: top;\n",
       "    }\n",
       "</style>\n",
       "<table border=\"1\" class=\"dataframe\">\n",
       "  <thead>\n",
       "    <tr style=\"text-align: right;\">\n",
       "      <th></th>\n",
       "      <th>DATE</th>\n",
       "      <th>MONTH</th>\n",
       "      <th>DAY</th>\n",
       "      <th>DAY_OF_WEEK</th>\n",
       "      <th>AIRLINE</th>\n",
       "      <th>FLIGHT_NUMBER</th>\n",
       "      <th>TAIL_NUMBER</th>\n",
       "      <th>ORIGIN_AIRPORT</th>\n",
       "      <th>DESTINATION_AIRPORT</th>\n",
       "      <th>SCHED_DEP</th>\n",
       "      <th>SCHED_ARR</th>\n",
       "      <th>ARRIVAL_DELAY</th>\n",
       "      <th>DISTANCE</th>\n",
       "      <th>SCHEDULED_TIME</th>\n",
       "      <th>DELAY_OR_NOT</th>\n",
       "    </tr>\n",
       "  </thead>\n",
       "  <tbody>\n",
       "    <tr>\n",
       "      <th>0</th>\n",
       "      <td>2015-09-19</td>\n",
       "      <td>9</td>\n",
       "      <td>19</td>\n",
       "      <td>6</td>\n",
       "      <td>AA</td>\n",
       "      <td>394</td>\n",
       "      <td>N3FMAA</td>\n",
       "      <td>ORD</td>\n",
       "      <td>LGA</td>\n",
       "      <td>07:15:00</td>\n",
       "      <td>10:30:00</td>\n",
       "      <td>1.0</td>\n",
       "      <td>733</td>\n",
       "      <td>135.0</td>\n",
       "      <td>0</td>\n",
       "    </tr>\n",
       "    <tr>\n",
       "      <th>1</th>\n",
       "      <td>2015-10-28</td>\n",
       "      <td>10</td>\n",
       "      <td>28</td>\n",
       "      <td>3</td>\n",
       "      <td>AA</td>\n",
       "      <td>375</td>\n",
       "      <td>N4YDAA</td>\n",
       "      <td>11298</td>\n",
       "      <td>13342</td>\n",
       "      <td>20:15:00</td>\n",
       "      <td>22:44:00</td>\n",
       "      <td>-31.0</td>\n",
       "      <td>853</td>\n",
       "      <td>149.0</td>\n",
       "      <td>0</td>\n",
       "    </tr>\n",
       "    <tr>\n",
       "      <th>2</th>\n",
       "      <td>2015-08-19</td>\n",
       "      <td>8</td>\n",
       "      <td>19</td>\n",
       "      <td>3</td>\n",
       "      <td>MQ</td>\n",
       "      <td>3648</td>\n",
       "      <td>N512MQ</td>\n",
       "      <td>XNA</td>\n",
       "      <td>ORD</td>\n",
       "      <td>12:22:00</td>\n",
       "      <td>14:10:00</td>\n",
       "      <td>-21.0</td>\n",
       "      <td>522</td>\n",
       "      <td>108.0</td>\n",
       "      <td>0</td>\n",
       "    </tr>\n",
       "    <tr>\n",
       "      <th>3</th>\n",
       "      <td>2015-12-01</td>\n",
       "      <td>12</td>\n",
       "      <td>1</td>\n",
       "      <td>2</td>\n",
       "      <td>WN</td>\n",
       "      <td>4096</td>\n",
       "      <td>N912WN</td>\n",
       "      <td>PHX</td>\n",
       "      <td>BWI</td>\n",
       "      <td>11:20:00</td>\n",
       "      <td>17:40:00</td>\n",
       "      <td>-14.0</td>\n",
       "      <td>1999</td>\n",
       "      <td>260.0</td>\n",
       "      <td>0</td>\n",
       "    </tr>\n",
       "    <tr>\n",
       "      <th>4</th>\n",
       "      <td>2015-09-15</td>\n",
       "      <td>9</td>\n",
       "      <td>15</td>\n",
       "      <td>2</td>\n",
       "      <td>WN</td>\n",
       "      <td>285</td>\n",
       "      <td>N7718B</td>\n",
       "      <td>MCI</td>\n",
       "      <td>DEN</td>\n",
       "      <td>14:10:00</td>\n",
       "      <td>14:55:00</td>\n",
       "      <td>-12.0</td>\n",
       "      <td>533</td>\n",
       "      <td>105.0</td>\n",
       "      <td>0</td>\n",
       "    </tr>\n",
       "  </tbody>\n",
       "</table>\n",
       "</div>"
      ],
      "text/plain": [
       "         DATE  MONTH  DAY  DAY_OF_WEEK AIRLINE  FLIGHT_NUMBER TAIL_NUMBER  \\\n",
       "0  2015-09-19      9   19            6      AA            394      N3FMAA   \n",
       "1  2015-10-28     10   28            3      AA            375      N4YDAA   \n",
       "2  2015-08-19      8   19            3      MQ           3648      N512MQ   \n",
       "3  2015-12-01     12    1            2      WN           4096      N912WN   \n",
       "4  2015-09-15      9   15            2      WN            285      N7718B   \n",
       "\n",
       "  ORIGIN_AIRPORT DESTINATION_AIRPORT SCHED_DEP SCHED_ARR  ARRIVAL_DELAY  \\\n",
       "0            ORD                 LGA  07:15:00  10:30:00            1.0   \n",
       "1          11298               13342  20:15:00  22:44:00          -31.0   \n",
       "2            XNA                 ORD  12:22:00  14:10:00          -21.0   \n",
       "3            PHX                 BWI  11:20:00  17:40:00          -14.0   \n",
       "4            MCI                 DEN  14:10:00  14:55:00          -12.0   \n",
       "\n",
       "   DISTANCE  SCHEDULED_TIME  DELAY_OR_NOT  \n",
       "0       733           135.0             0  \n",
       "1       853           149.0             0  \n",
       "2       522           108.0             0  \n",
       "3      1999           260.0             0  \n",
       "4       533           105.0             0  "
      ]
     },
     "execution_count": 11,
     "metadata": {},
     "output_type": "execute_result"
    }
   ],
   "source": [
    "flightdata2 = flightdata[['DATE',\n",
    " 'MONTH',\n",
    " 'DAY',\n",
    " 'DAY_OF_WEEK',\n",
    " 'AIRLINE',\n",
    " 'FLIGHT_NUMBER',\n",
    " 'TAIL_NUMBER',\n",
    " 'ORIGIN_AIRPORT',\n",
    " 'DESTINATION_AIRPORT',\n",
    " 'SCHED_DEP',\n",
    " 'SCHED_ARR',\n",
    " 'ARRIVAL_DELAY',\n",
    " 'DISTANCE',\n",
    " 'SCHEDULED_TIME',\n",
    " 'DELAY_OR_NOT']]\n",
    "flightdata2.head()"
   ]
  },
  {
   "cell_type": "markdown",
   "metadata": {},
   "source": [
    "We removed the following 7 variables not because they had missingness, but because they are derivatives of lateness, and we wouldn't be able to measure them before heading to the airport:\n",
    "\n",
    "1. 'DEPARTURE_DELAY'\n",
    "2. 'ELAPSED_TIME'\n",
    "3. 'AIR_SYSTEM_DELAY'\n",
    "4. 'SECURITY_DELAY'\n",
    "5. 'AIRLINE_DELAY'\n",
    "6. 'LATE_AIRCRAFT_DELAY'\n",
    "7. 'WEATHER_DELAY'"
   ]
  },
  {
   "cell_type": "markdown",
   "metadata": {
    "collapsed": true
   },
   "source": [
    "---"
   ]
  },
  {
   "cell_type": "markdown",
   "metadata": {},
   "source": [
    "3..(15pts) Perform EDA to gain intuition of the factors that affect delay and provide visuals: do delays vary across airlines, or time of departure, or airport (do, at the very least, Chicago (ORD), Boston (BOS), and your favorite another airport), or airport traffic?"
   ]
  },
  {
   "cell_type": "code",
   "execution_count": 13,
   "metadata": {},
   "outputs": [
    {
     "name": "stderr",
     "output_type": "stream",
     "text": [
      "/Users/pavlos/anaconda2/envs/py36/lib/python3.6/site-packages/ipykernel/__main__.py:5: SettingWithCopyWarning: \n",
      "A value is trying to be set on a copy of a slice from a DataFrame.\n",
      "Try using .loc[row_indexer,col_indexer] = value instead\n",
      "\n",
      "See the caveats in the documentation: http://pandas.pydata.org/pandas-docs/stable/indexing.html#indexing-view-versus-copy\n",
      "/Users/pavlos/anaconda2/envs/py36/lib/python3.6/site-packages/ipykernel/__main__.py:6: SettingWithCopyWarning: \n",
      "A value is trying to be set on a copy of a slice from a DataFrame.\n",
      "Try using .loc[row_indexer,col_indexer] = value instead\n",
      "\n",
      "See the caveats in the documentation: http://pandas.pydata.org/pandas-docs/stable/indexing.html#indexing-view-versus-copy\n",
      "/Users/pavlos/anaconda2/envs/py36/lib/python3.6/site-packages/ipykernel/__main__.py:8: SettingWithCopyWarning: \n",
      "A value is trying to be set on a copy of a slice from a DataFrame.\n",
      "Try using .loc[row_indexer,col_indexer] = value instead\n",
      "\n",
      "See the caveats in the documentation: http://pandas.pydata.org/pandas-docs/stable/indexing.html#indexing-view-versus-copy\n",
      "/Users/pavlos/anaconda2/envs/py36/lib/python3.6/site-packages/ipykernel/__main__.py:9: SettingWithCopyWarning: \n",
      "A value is trying to be set on a copy of a slice from a DataFrame.\n",
      "Try using .loc[row_indexer,col_indexer] = value instead\n",
      "\n",
      "See the caveats in the documentation: http://pandas.pydata.org/pandas-docs/stable/indexing.html#indexing-view-versus-copy\n",
      "/Users/pavlos/anaconda2/envs/py36/lib/python3.6/site-packages/ipykernel/__main__.py:11: SettingWithCopyWarning: \n",
      "A value is trying to be set on a copy of a slice from a DataFrame.\n",
      "Try using .loc[row_indexer,col_indexer] = value instead\n",
      "\n",
      "See the caveats in the documentation: http://pandas.pydata.org/pandas-docs/stable/indexing.html#indexing-view-versus-copy\n"
     ]
    }
   ],
   "source": [
    "#let's first deal with the time variables \n",
    "import datetime as dt\n",
    "import time \n",
    "\n",
    "flightdata2['SCHED_DEP'] = pd.to_datetime(flightdata2['SCHED_DEP'])\n",
    "flightdata2['SCHED_ARR'] = pd.to_datetime(flightdata2['SCHED_ARR'])\n",
    "    \n",
    "flightdata2['SCHED_DEP_HOUR'] = flightdata2['SCHED_DEP'].dt.hour\n",
    "flightdata2['SCHED_ARR_HOUR'] = flightdata2['SCHED_ARR'].dt.hour\n",
    "\n",
    "flightdata2['FLIGHT_COUNT'] = flightdata2['AIRLINE'].groupby(flightdata2['ORIGIN_AIRPORT']).transform('count')\n"
   ]
  },
  {
   "cell_type": "code",
   "execution_count": 14,
   "metadata": {
    "collapsed": true
   },
   "outputs": [],
   "source": [
    "# Now let's do a little feature engineering: let's consider looking at determining \n",
    "# whether the flight was delayed the most recent day\n",
    "\n",
    "flightdata2 = flightdata2.sort_values(['TAIL_NUMBER', 'DATE', 'SCHED_DEP'], ascending=[1, 1, 1])\n",
    "\n",
    "\n",
    "bytail = flightdata2.groupby('TAIL_NUMBER')\n",
    "flightdata2['PREVIOUS_TAIL_DELAYED']=bytail['DELAY_OR_NOT'].shift(1)\n",
    "flightdata2['PREVIOUS_TAIL_DELAYED'].fillna(0,inplace=True)\n",
    "\n"
   ]
  },
  {
   "cell_type": "code",
   "execution_count": 15,
   "metadata": {
    "collapsed": true
   },
   "outputs": [],
   "source": [
    "from sklearn.model_selection import train_test_split\n",
    "# Before doing any work, we might want to sample only a small fraction (n = 40,000 or about 5%)\n",
    "np.random.seed(9001)\n",
    "\n",
    "# shuffle the data, since we ordered it\n",
    "flightdata2 = flightdata2.reindex(np.random.permutation(flightdata2.index))\n",
    "y = flightdata2['DELAY_OR_NOT']\n",
    "y2 = flightdata2['ARRIVAL_DELAY']\n",
    "X = flightdata2[['DISTANCE','SCHEDULED_TIME','SCHED_DEP_HOUR','SCHED_ARR_HOUR','FLIGHT_COUNT','PREVIOUS_TAIL_DELAYED']]\n",
    "\n",
    "\n",
    "dummy_vars = pd.get_dummies(flightdata2[['MONTH','DAY_OF_WEEK','ORIGIN_AIRPORT','DESTINATION_AIRPORT']])\n",
    "X = X.join(dummy_vars.drop(['MONTH','DAY_OF_WEEK'],axis=1))"
   ]
  },
  {
   "cell_type": "code",
   "execution_count": 16,
   "metadata": {},
   "outputs": [
    {
     "data": {
      "text/html": [
       "<div>\n",
       "<style>\n",
       "    .dataframe thead tr:only-child th {\n",
       "        text-align: right;\n",
       "    }\n",
       "\n",
       "    .dataframe thead th {\n",
       "        text-align: left;\n",
       "    }\n",
       "\n",
       "    .dataframe tbody tr th {\n",
       "        vertical-align: top;\n",
       "    }\n",
       "</style>\n",
       "<table border=\"1\" class=\"dataframe\">\n",
       "  <thead>\n",
       "    <tr style=\"text-align: right;\">\n",
       "      <th></th>\n",
       "      <th>ORIGIN_AIRPORT_10135</th>\n",
       "      <th>ORIGIN_AIRPORT_10136</th>\n",
       "      <th>ORIGIN_AIRPORT_10140</th>\n",
       "      <th>ORIGIN_AIRPORT_10141</th>\n",
       "      <th>ORIGIN_AIRPORT_10146</th>\n",
       "      <th>ORIGIN_AIRPORT_10154</th>\n",
       "      <th>ORIGIN_AIRPORT_10155</th>\n",
       "      <th>ORIGIN_AIRPORT_10157</th>\n",
       "      <th>ORIGIN_AIRPORT_10158</th>\n",
       "      <th>ORIGIN_AIRPORT_10165</th>\n",
       "      <th>...</th>\n",
       "      <th>DESTINATION_AIRPORT_TYS</th>\n",
       "      <th>DESTINATION_AIRPORT_UST</th>\n",
       "      <th>DESTINATION_AIRPORT_VEL</th>\n",
       "      <th>DESTINATION_AIRPORT_VLD</th>\n",
       "      <th>DESTINATION_AIRPORT_VPS</th>\n",
       "      <th>DESTINATION_AIRPORT_WRG</th>\n",
       "      <th>DESTINATION_AIRPORT_WYS</th>\n",
       "      <th>DESTINATION_AIRPORT_XNA</th>\n",
       "      <th>DESTINATION_AIRPORT_YAK</th>\n",
       "      <th>DESTINATION_AIRPORT_YUM</th>\n",
       "    </tr>\n",
       "  </thead>\n",
       "  <tbody>\n",
       "    <tr>\n",
       "      <th>604157</th>\n",
       "      <td>0</td>\n",
       "      <td>0</td>\n",
       "      <td>0</td>\n",
       "      <td>0</td>\n",
       "      <td>0</td>\n",
       "      <td>0</td>\n",
       "      <td>0</td>\n",
       "      <td>0</td>\n",
       "      <td>0</td>\n",
       "      <td>0</td>\n",
       "      <td>...</td>\n",
       "      <td>0</td>\n",
       "      <td>0</td>\n",
       "      <td>0</td>\n",
       "      <td>0</td>\n",
       "      <td>0</td>\n",
       "      <td>0</td>\n",
       "      <td>0</td>\n",
       "      <td>0</td>\n",
       "      <td>0</td>\n",
       "      <td>0</td>\n",
       "    </tr>\n",
       "    <tr>\n",
       "      <th>435627</th>\n",
       "      <td>0</td>\n",
       "      <td>0</td>\n",
       "      <td>0</td>\n",
       "      <td>0</td>\n",
       "      <td>0</td>\n",
       "      <td>0</td>\n",
       "      <td>0</td>\n",
       "      <td>0</td>\n",
       "      <td>0</td>\n",
       "      <td>0</td>\n",
       "      <td>...</td>\n",
       "      <td>0</td>\n",
       "      <td>0</td>\n",
       "      <td>0</td>\n",
       "      <td>0</td>\n",
       "      <td>0</td>\n",
       "      <td>0</td>\n",
       "      <td>0</td>\n",
       "      <td>0</td>\n",
       "      <td>0</td>\n",
       "      <td>0</td>\n",
       "    </tr>\n",
       "    <tr>\n",
       "      <th>475811</th>\n",
       "      <td>0</td>\n",
       "      <td>0</td>\n",
       "      <td>0</td>\n",
       "      <td>0</td>\n",
       "      <td>0</td>\n",
       "      <td>0</td>\n",
       "      <td>0</td>\n",
       "      <td>0</td>\n",
       "      <td>0</td>\n",
       "      <td>0</td>\n",
       "      <td>...</td>\n",
       "      <td>0</td>\n",
       "      <td>0</td>\n",
       "      <td>0</td>\n",
       "      <td>0</td>\n",
       "      <td>0</td>\n",
       "      <td>0</td>\n",
       "      <td>0</td>\n",
       "      <td>0</td>\n",
       "      <td>0</td>\n",
       "      <td>0</td>\n",
       "    </tr>\n",
       "    <tr>\n",
       "      <th>253510</th>\n",
       "      <td>0</td>\n",
       "      <td>0</td>\n",
       "      <td>0</td>\n",
       "      <td>0</td>\n",
       "      <td>0</td>\n",
       "      <td>0</td>\n",
       "      <td>0</td>\n",
       "      <td>0</td>\n",
       "      <td>0</td>\n",
       "      <td>0</td>\n",
       "      <td>...</td>\n",
       "      <td>0</td>\n",
       "      <td>0</td>\n",
       "      <td>0</td>\n",
       "      <td>0</td>\n",
       "      <td>0</td>\n",
       "      <td>0</td>\n",
       "      <td>0</td>\n",
       "      <td>0</td>\n",
       "      <td>0</td>\n",
       "      <td>0</td>\n",
       "    </tr>\n",
       "    <tr>\n",
       "      <th>193075</th>\n",
       "      <td>0</td>\n",
       "      <td>0</td>\n",
       "      <td>0</td>\n",
       "      <td>0</td>\n",
       "      <td>0</td>\n",
       "      <td>0</td>\n",
       "      <td>0</td>\n",
       "      <td>0</td>\n",
       "      <td>0</td>\n",
       "      <td>0</td>\n",
       "      <td>...</td>\n",
       "      <td>0</td>\n",
       "      <td>0</td>\n",
       "      <td>0</td>\n",
       "      <td>0</td>\n",
       "      <td>0</td>\n",
       "      <td>0</td>\n",
       "      <td>0</td>\n",
       "      <td>0</td>\n",
       "      <td>0</td>\n",
       "      <td>0</td>\n",
       "    </tr>\n",
       "  </tbody>\n",
       "</table>\n",
       "<p>5 rows × 1255 columns</p>\n",
       "</div>"
      ],
      "text/plain": [
       "        ORIGIN_AIRPORT_10135  ORIGIN_AIRPORT_10136  ORIGIN_AIRPORT_10140  \\\n",
       "604157                     0                     0                     0   \n",
       "435627                     0                     0                     0   \n",
       "475811                     0                     0                     0   \n",
       "253510                     0                     0                     0   \n",
       "193075                     0                     0                     0   \n",
       "\n",
       "        ORIGIN_AIRPORT_10141  ORIGIN_AIRPORT_10146  ORIGIN_AIRPORT_10154  \\\n",
       "604157                     0                     0                     0   \n",
       "435627                     0                     0                     0   \n",
       "475811                     0                     0                     0   \n",
       "253510                     0                     0                     0   \n",
       "193075                     0                     0                     0   \n",
       "\n",
       "        ORIGIN_AIRPORT_10155  ORIGIN_AIRPORT_10157  ORIGIN_AIRPORT_10158  \\\n",
       "604157                     0                     0                     0   \n",
       "435627                     0                     0                     0   \n",
       "475811                     0                     0                     0   \n",
       "253510                     0                     0                     0   \n",
       "193075                     0                     0                     0   \n",
       "\n",
       "        ORIGIN_AIRPORT_10165           ...             \\\n",
       "604157                     0           ...              \n",
       "435627                     0           ...              \n",
       "475811                     0           ...              \n",
       "253510                     0           ...              \n",
       "193075                     0           ...              \n",
       "\n",
       "        DESTINATION_AIRPORT_TYS  DESTINATION_AIRPORT_UST  \\\n",
       "604157                        0                        0   \n",
       "435627                        0                        0   \n",
       "475811                        0                        0   \n",
       "253510                        0                        0   \n",
       "193075                        0                        0   \n",
       "\n",
       "        DESTINATION_AIRPORT_VEL  DESTINATION_AIRPORT_VLD  \\\n",
       "604157                        0                        0   \n",
       "435627                        0                        0   \n",
       "475811                        0                        0   \n",
       "253510                        0                        0   \n",
       "193075                        0                        0   \n",
       "\n",
       "        DESTINATION_AIRPORT_VPS  DESTINATION_AIRPORT_WRG  \\\n",
       "604157                        0                        0   \n",
       "435627                        0                        0   \n",
       "475811                        0                        0   \n",
       "253510                        0                        0   \n",
       "193075                        0                        0   \n",
       "\n",
       "        DESTINATION_AIRPORT_WYS  DESTINATION_AIRPORT_XNA  \\\n",
       "604157                        0                        0   \n",
       "435627                        0                        0   \n",
       "475811                        0                        0   \n",
       "253510                        0                        0   \n",
       "193075                        0                        0   \n",
       "\n",
       "        DESTINATION_AIRPORT_YAK  DESTINATION_AIRPORT_YUM  \n",
       "604157                        0                        0  \n",
       "435627                        0                        0  \n",
       "475811                        0                        0  \n",
       "253510                        0                        0  \n",
       "193075                        0                        0  \n",
       "\n",
       "[5 rows x 1255 columns]"
      ]
     },
     "execution_count": 16,
     "metadata": {},
     "output_type": "execute_result"
    }
   ],
   "source": [
    "dummy_vars.drop(['MONTH','DAY_OF_WEEK'],axis=1).head()"
   ]
  },
  {
   "cell_type": "code",
   "execution_count": 17,
   "metadata": {},
   "outputs": [
    {
     "name": "stdout",
     "output_type": "stream",
     "text": [
      "(804941, 1261) (20000, 1261) (20000, 1261) (764941, 1261)\n"
     ]
    }
   ],
   "source": [
    "# select our sample\n",
    "N = 20000\n",
    "flighttrain = flightdata2.iloc[0:N]\n",
    "flighttest = flightdata2.iloc[N:(2*N)]\n",
    "y_train = y.iloc[0:N]\n",
    "y2_train = y2.iloc[0:N]\n",
    "X_train = X.iloc[0:N]\n",
    "y_test = y.iloc[N:(2*N)]\n",
    "y2_test = y2.iloc[N:(2*N)]\n",
    "X_test = X.iloc[N:(2*N)]\n",
    "\n",
    "flightelse = flightdata2.iloc[(2*N):flightdata2.shape[0]]\n",
    "X_else = X.iloc[(2*N):flightdata2.shape[0]]\n",
    "y_else = y.iloc[(2*N):flightdata2.shape[0]]\n",
    "y2_else = y2.iloc[(2*N):flightdata2.shape[0]]\n",
    "\n",
    "print(X.shape,X_test.shape,X_train.shape,X_else.shape)\n",
    "#flightsamp.head()"
   ]
  },
  {
   "cell_type": "code",
   "execution_count": 18,
   "metadata": {},
   "outputs": [
    {
     "data": {
      "image/png": "[encoded data removed]",
      "text/plain": [
       "<matplotlib.figure.Figure at 0x104524f28>"
      ]
     },
     "metadata": {},
     "output_type": "display_data"
    }
   ],
   "source": [
    "#do delays vary across airlines\n",
    "\n",
    "#proportion of flight delayed\n",
    "byairline = flighttrain.groupby('AIRLINE')\n",
    "airline_props=byairline['DELAY_OR_NOT'].mean()\n",
    "plt.bar(range(len(airline_props)),airline_props,tick_label=list(airline_props.index))\n",
    "plt.ylabel('Proportion of flights delayed')\n",
    "plt.title('Proportion of flights delayed by airline')\n",
    "plt.show()"
   ]
  },
  {
   "cell_type": "markdown",
   "metadata": {},
   "source": [
    "Wow, it looks like NK is by far the worst (Spirit Airlines) with almost 40% of flights delayed, while HA, AS, and DL have low rates of delay (Hawaiian, Alaska, and Delta)."
   ]
  },
  {
   "cell_type": "code",
   "execution_count": 19,
   "metadata": {},
   "outputs": [
    {
     "name": "stdout",
     "output_type": "stream",
     "text": [
      "(2064, 19)\n"
     ]
    },
    {
     "data": {
      "image/png": "[encoded data removed]",
      "text/plain": [
       "<matplotlib.figure.Figure at 0x10fa16208>"
      ]
     },
     "metadata": {},
     "output_type": "display_data"
    }
   ],
   "source": [
    "#mean length of delay when delayed\n",
    "delayedflightstrain=flighttrain[flighttrain['DELAY_OR_NOT']==1]\n",
    "print(delayedflightstrain.shape)\n",
    "\n",
    "byairline2 = delayedflightstrain.groupby('AIRLINE')\n",
    "airline_means=byairline2['ARRIVAL_DELAY'].mean()\n",
    "plt.bar(range(len(airline_means)),airline_means,tick_label=list(airline_means.index))\n",
    "plt.ylabel('Mean time delayed')\n",
    "plt.title('Mean delay time of delayed flights (>15min) by airline')\n",
    "plt.show()"
   ]
  },
  {
   "cell_type": "markdown",
   "metadata": {},
   "source": [
    "Given a flight is delayed, it does not look like there is much difference across the airlines, but it appears maybe HA and AS (Hawaiian and Alaska again) does a little bit better than the rest and VX (Virgin Airlines) does the worst."
   ]
  },
  {
   "cell_type": "code",
   "execution_count": 20,
   "metadata": {},
   "outputs": [
    {
     "data": {
      "image/png": "[encoded data removed]",
      "text/plain": [
       "<matplotlib.figure.Figure at 0x10fbc8c88>"
      ]
     },
     "metadata": {},
     "output_type": "display_data"
    }
   ],
   "source": [
    "# do delays vary across time of departure, \n",
    "fig, ax = plt.subplots(1, 2, figsize=(18, 8))\n",
    "\n",
    "plt.subplot(1, 2, 1)\n",
    "bytime = flighttrain.groupby('SCHED_DEP_HOUR')\n",
    "time_props=bytime['DELAY_OR_NOT'].mean()\n",
    "plt.bar(range(len(time_props)),time_props,tick_label=list(time_props.index))\n",
    "plt.ylabel('Proportion of flights delayed')\n",
    "plt.title('Proportion of flights delayed by hour of the day')\n",
    "\n",
    "\n",
    "plt.subplot(1, 2, 2)\n",
    "byairline2 = delayedflightstrain.groupby('SCHED_DEP_HOUR')\n",
    "airline_means=byairline2['ARRIVAL_DELAY'].mean()\n",
    "#plt.bar(range(len(airline_means)),airline_means,tick_label=list(airline_means.index))\n",
    "plt.scatter(delayedflightstrain['SCHED_DEP_HOUR'],np.log(delayedflightstrain['ARRIVAL_DELAY']),alpha=.1)\n",
    "plt.ylabel('Mean time delayed')\n",
    "plt.title('Log of delay time for delayed flights (>15min) against hour of the day')\n",
    "\n",
    "plt.show()\n",
    "#print(np.transpose(bytime['DELAY_OR_NOT'].count()),byairline2['ARRIVAL_DELAY'].count())"
   ]
  },
  {
   "cell_type": "code",
   "execution_count": 21,
   "metadata": {},
   "outputs": [
    {
     "data": {
      "image/png": "[encoded data removed]",
      "text/plain": [
       "<matplotlib.figure.Figure at 0x10fe137b8>"
      ]
     },
     "metadata": {},
     "output_type": "display_data"
    }
   ],
   "source": [
    "#do delays vary across airport (do, at the very least, Chicago (ORD), Boston (BOS), and your favorite other airport)\n",
    "byorigairport = flighttrain.groupby('ORIGIN_AIRPORT')\n",
    "bydestairport = flighttrain.groupby('DESTINATION_AIRPORT')\n",
    "\n",
    "byorigairport2 = delayedflightstrain.groupby('ORIGIN_AIRPORT')\n",
    "bydestairport2 = delayedflightstrain.groupby('DESTINATION_AIRPORT')\n",
    "\n",
    "fig, ax = plt.subplots(1, 2, figsize=(18, 8))\n",
    "\n",
    "plt.subplot(1, 2, 1)\n",
    "keepairports=['PHL','BOS','ORD','LNK']\n",
    "indices=[1,2,3,4]\n",
    "plt.bar([x+.2 for x in indices],bydestairport['DELAY_OR_NOT'].mean()[keepairports],tick_label=keepairports,width=.4)\n",
    "plt.bar([x-.2 for x in indices],byorigairport['DELAY_OR_NOT'].mean()[keepairports],tick_label=keepairports,width=.4)\n",
    "plt.ylabel('Proportion of flights delayed')\n",
    "plt.title('Proportion of flights delayed in 4 Chosen Airports: \\n Philly, Boston, Chicago, and Lincoln, NE \\n blue = destination, orange = origination')\n",
    "\n",
    "plt.subplot(1, 2, 2)\n",
    "plt.bar([x+.2 for x in indices],byorigairport2['ARRIVAL_DELAY'].mean()[keepairports],tick_label=keepairports,width=.4)\n",
    "plt.bar([x-.2 for x in indices],bydestairport2['ARRIVAL_DELAY'].mean()[keepairports],tick_label=keepairports,width=.4)\n",
    "plt.ylabel('Average Delay Time')\n",
    "plt.title('Average Delay Time in 4 Chosen Airports: \\n Philly, Boston, Chicago, and Lincoln, NE \\n blue = destination, orange = origination')\n",
    "plt.show()\n"
   ]
  },
  {
   "cell_type": "code",
   "execution_count": 22,
   "metadata": {},
   "outputs": [
    {
     "data": {
      "text/plain": [
       "<matplotlib.text.Text at 0x10fdb0908>"
      ]
     },
     "execution_count": 22,
     "metadata": {},
     "output_type": "execute_result"
    },
    {
     "data": {
      "image/png": "[encoded data removed]",
      "text/plain": [
       "<matplotlib.figure.Figure at 0x10fb82a58>"
      ]
     },
     "metadata": {},
     "output_type": "display_data"
    }
   ],
   "source": [
    "bytraffic = flighttrain.groupby('FLIGHT_COUNT')\n",
    "traffic_props=bytraffic['DELAY_OR_NOT'].mean()\n",
    "plt.scatter(range(len(traffic_props)),traffic_props)\n",
    "plt.ylabel('Proportion of flights delayed')\n",
    "plt.title('Proportion of flights delayed by total traffic in sample')"
   ]
  },
  {
   "cell_type": "markdown",
   "metadata": {},
   "source": [
    "Note, this scatterplot has a whole lot of spread on the left, and a lot less spread on the right.  It does suggest that a quadratic relationship may exist (really, it should be logistic in nature)."
   ]
  },
  {
   "cell_type": "markdown",
   "metadata": {
    "collapsed": true
   },
   "source": [
    "---"
   ]
  },
  {
   "cell_type": "markdown",
   "metadata": {},
   "source": [
    "4..(20pts) Build a classification model that classifies delays according to `DELAY_OR_NOT`. This is an unbalanced dataset, thus consider the appropriate performance metric when reporting your results. "
   ]
  },
  {
   "cell_type": "code",
   "execution_count": 29,
   "metadata": {},
   "outputs": [
    {
     "name": "stderr",
     "output_type": "stream",
     "text": [
      "/Users/pavlos/anaconda2/envs/py36/lib/python3.6/site-packages/pandas/core/generic.py:2999: SettingWithCopyWarning: \n",
      "A value is trying to be set on a copy of a slice from a DataFrame.\n",
      "Try using .loc[row_indexer,col_indexer] = value instead\n",
      "\n",
      "See the caveats in the documentation: http://pandas.pydata.org/pandas-docs/stable/indexing.html#indexing-view-versus-copy\n",
      "  self[name] = value\n"
     ]
    }
   ],
   "source": [
    "flighttrain.DAY_OF_WEEK = flighttrain.DAY_OF_WEEK.astype(str)\n",
    "flighttrain.MONTH = flighttrain.MONTH.astype(str)\n"
   ]
  },
  {
   "cell_type": "code",
   "execution_count": 30,
   "metadata": {},
   "outputs": [
    {
     "data": {
      "text/plain": [
       "LogisticRegression(C=1000000, class_weight=None, dual=False,\n",
       "          fit_intercept=True, intercept_scaling=1, max_iter=100,\n",
       "          multi_class='ovr', n_jobs=1, penalty='l2', random_state=None,\n",
       "          solver='liblinear', tol=0.0001, verbose=0, warm_start=False)"
      ]
     },
     "execution_count": 30,
     "metadata": {},
     "output_type": "execute_result"
    }
   ],
   "source": [
    "#Fitting an unpenalized logistic regression\n",
    "\n",
    "# Using all predictors is a terrible idea.  Don't need both indicators for airport, and variables that are \n",
    "# static for them (like how we defined FLIGHT_COUNT).  But let's see how it does.\n",
    "logitm = sk.linear_model.LogisticRegression(C = 1000000)\n",
    "logitm.fit (X_train, y_train)\n"
   ]
  },
  {
   "cell_type": "code",
   "execution_count": 31,
   "metadata": {},
   "outputs": [
    {
     "data": {
      "text/plain": [
       "LogisticRegressionCV(Cs=20, class_weight=None, cv=None, dual=False,\n",
       "           fit_intercept=True, intercept_scaling=1.0, max_iter=100,\n",
       "           multi_class='ovr', n_jobs=1, penalty='l1', random_state=None,\n",
       "           refit=True, scoring='roc_auc', solver='liblinear', tol=0.0001,\n",
       "           verbose=0)"
      ]
     },
     "execution_count": 31,
     "metadata": {},
     "output_type": "execute_result"
    }
   ],
   "source": [
    "#Fitting a Lasso-like penalized logistic regression to take care of the overfitted model\n",
    "\n",
    "# Create logistic regression object\n",
    "logitCV = sk.linear_model.LogisticRegressionCV(Cs = 20,penalty='l1',solver='liblinear', scoring='roc_auc')\n",
    "logitCV.fit(X_train, y_train)"
   ]
  },
  {
   "cell_type": "code",
   "execution_count": 32,
   "metadata": {
    "collapsed": true
   },
   "outputs": [],
   "source": [
    "# Decision Tree Classifier\n",
    "dec_tree = DecisionTreeClassifier()\n",
    "depths = {'max_depth': list(range(2,15))}\n",
    "dec_tree_grid = sk.model_selection.GridSearchCV(dec_tree, depths, cv=5, scoring='roc_auc')\n",
    "dec_tree_grid.fit(X_train,y_train)\n",
    "best_depth = max([(s,d) for s,d in zip(dec_tree_grid.cv_results_['mean_test_score'],list(range(2,15)))],key=lambda x: x[0])[1]\n",
    "dec_tree_best = DecisionTreeClassifier(max_depth=best_depth).fit(X_train, y_train)"
   ]
  },
  {
   "cell_type": "code",
   "execution_count": 33,
   "metadata": {},
   "outputs": [
    {
     "name": "stdout",
     "output_type": "stream",
     "text": [
      "0.805493728455\n",
      "0.570080530193\n",
      "0.7710459757\n"
     ]
    }
   ],
   "source": [
    "#score the two models on the test set\n",
    "print(sk.metrics.roc_auc_score(y_train, logitCV.predict_proba(X_train)[:,1]))\n",
    "print(sk.metrics.roc_auc_score(y_train, logitm.predict_proba(X_train)[:,1]))\n",
    "print(sk.metrics.roc_auc_score(y_train, dec_tree_best.predict_proba(X_train)[:,1]))"
   ]
  },
  {
   "cell_type": "code",
   "execution_count": 34,
   "metadata": {},
   "outputs": [
    {
     "name": "stdout",
     "output_type": "stream",
     "text": [
      "0.78832294781\n",
      "0.555103136248\n",
      "0.757606362661\n"
     ]
    }
   ],
   "source": [
    "print(sk.metrics.roc_auc_score(y_test, logitCV.predict_proba(X_test)[:,1]))\n",
    "print(sk.metrics.roc_auc_score(y_test, logitm.predict_proba(X_test)[:,1]))\n",
    "print(sk.metrics.roc_auc_score(y_test, dec_tree_best.predict_proba(X_test)[:,1]))"
   ]
  },
  {
   "cell_type": "markdown",
   "metadata": {},
   "source": [
    "Based on the AUCs for the test set listed above, it looks like the L1 penalized Logistic Regression model (hyperparameter chosen through cross-validation) is the best choice: it has an AUC score of 0.788 while the decision tree's AUC is around 0.758, and the standard logistic regression has an AUC of about 0.555 (this is so bad because it is WAY overfit and the model has too many parameters/variables that are redundant: for example 'FLIGHT_COUNT' is static across airpot, so it is not needed at all)."
   ]
  },
  {
   "cell_type": "markdown",
   "metadata": {
    "collapsed": true
   },
   "source": [
    "---"
   ]
  },
  {
   "cell_type": "markdown",
   "metadata": {},
   "source": [
    "5..(5pts) Given your model, comment on the importance of factors as related to whether a flight is delayed."
   ]
  },
  {
   "cell_type": "code",
   "execution_count": 35,
   "metadata": {},
   "outputs": [
    {
     "data": {
      "text/html": [
       "<div>\n",
       "<style>\n",
       "    .dataframe thead tr:only-child th {\n",
       "        text-align: right;\n",
       "    }\n",
       "\n",
       "    .dataframe thead th {\n",
       "        text-align: left;\n",
       "    }\n",
       "\n",
       "    .dataframe tbody tr th {\n",
       "        vertical-align: top;\n",
       "    }\n",
       "</style>\n",
       "<table border=\"1\" class=\"dataframe\">\n",
       "  <thead>\n",
       "    <tr style=\"text-align: right;\">\n",
       "      <th></th>\n",
       "      <th>0</th>\n",
       "      <th>1</th>\n",
       "      <th>2</th>\n",
       "      <th>3</th>\n",
       "      <th>4</th>\n",
       "      <th>5</th>\n",
       "      <th>6</th>\n",
       "      <th>7</th>\n",
       "      <th>8</th>\n",
       "      <th>9</th>\n",
       "      <th>...</th>\n",
       "      <th>98</th>\n",
       "      <th>99</th>\n",
       "      <th>100</th>\n",
       "      <th>101</th>\n",
       "      <th>102</th>\n",
       "      <th>103</th>\n",
       "      <th>104</th>\n",
       "      <th>105</th>\n",
       "      <th>106</th>\n",
       "      <th>107</th>\n",
       "    </tr>\n",
       "  </thead>\n",
       "  <tbody>\n",
       "    <tr>\n",
       "      <th>0</th>\n",
       "      <td>DISTANCE</td>\n",
       "      <td>SCHED_DEP_HOUR</td>\n",
       "      <td>SCHED_ARR_HOUR</td>\n",
       "      <td>FLIGHT_COUNT</td>\n",
       "      <td>PREVIOUS_TAIL_DELAYED</td>\n",
       "      <td>ORIGIN_AIRPORT_14100</td>\n",
       "      <td>ORIGIN_AIRPORT_ACY</td>\n",
       "      <td>ORIGIN_AIRPORT_AEX</td>\n",
       "      <td>ORIGIN_AIRPORT_ALB</td>\n",
       "      <td>ORIGIN_AIRPORT_BDL</td>\n",
       "      <td>...</td>\n",
       "      <td>DESTINATION_AIRPORT_PHL</td>\n",
       "      <td>DESTINATION_AIRPORT_PHX</td>\n",
       "      <td>DESTINATION_AIRPORT_PIT</td>\n",
       "      <td>DESTINATION_AIRPORT_PSP</td>\n",
       "      <td>DESTINATION_AIRPORT_RHI</td>\n",
       "      <td>DESTINATION_AIRPORT_SAN</td>\n",
       "      <td>DESTINATION_AIRPORT_SFO</td>\n",
       "      <td>DESTINATION_AIRPORT_SJU</td>\n",
       "      <td>DESTINATION_AIRPORT_TPA</td>\n",
       "      <td>DESTINATION_AIRPORT_TUS</td>\n",
       "    </tr>\n",
       "    <tr>\n",
       "      <th>1</th>\n",
       "      <td>[0.00123519022581]</td>\n",
       "      <td>[0.215617041254]</td>\n",
       "      <td>[0.0147612445944]</td>\n",
       "      <td>[1.65763338975e-05]</td>\n",
       "      <td>[0.935917704558]</td>\n",
       "      <td>[0.0101321909634]</td>\n",
       "      <td>[0.282363792827]</td>\n",
       "      <td>[1.64993394002]</td>\n",
       "      <td>[0.470356668595]</td>\n",
       "      <td>[0.0267008993483]</td>\n",
       "      <td>...</td>\n",
       "      <td>[0.339043426846]</td>\n",
       "      <td>[0.262242626735]</td>\n",
       "      <td>[0.00409683804715]</td>\n",
       "      <td>[0.397416920146]</td>\n",
       "      <td>[0.876171984394]</td>\n",
       "      <td>[0.155642515785]</td>\n",
       "      <td>[1.14912676983]</td>\n",
       "      <td>[0.38222313591]</td>\n",
       "      <td>[0.566241036799]</td>\n",
       "      <td>[0.211281825001]</td>\n",
       "    </tr>\n",
       "  </tbody>\n",
       "</table>\n",
       "<p>2 rows × 108 columns</p>\n",
       "</div>"
      ],
      "text/plain": [
       "                  0                 1                  2    \\\n",
       "0            DISTANCE    SCHED_DEP_HOUR     SCHED_ARR_HOUR   \n",
       "1  [0.00123519022581]  [0.215617041254]  [0.0147612445944]   \n",
       "\n",
       "                   3                      4                     5    \\\n",
       "0         FLIGHT_COUNT  PREVIOUS_TAIL_DELAYED  ORIGIN_AIRPORT_14100   \n",
       "1  [1.65763338975e-05]       [0.935917704558]     [0.0101321909634]   \n",
       "\n",
       "                  6                   7                   8    \\\n",
       "0  ORIGIN_AIRPORT_ACY  ORIGIN_AIRPORT_AEX  ORIGIN_AIRPORT_ALB   \n",
       "1    [0.282363792827]     [1.64993394002]    [0.470356668595]   \n",
       "\n",
       "                  9             ...                                 98   \\\n",
       "0  ORIGIN_AIRPORT_BDL           ...             DESTINATION_AIRPORT_PHL   \n",
       "1   [0.0267008993483]           ...                    [0.339043426846]   \n",
       "\n",
       "                       99                       100                      101  \\\n",
       "0  DESTINATION_AIRPORT_PHX  DESTINATION_AIRPORT_PIT  DESTINATION_AIRPORT_PSP   \n",
       "1         [0.262242626735]       [0.00409683804715]         [0.397416920146]   \n",
       "\n",
       "                       102                      103                      104  \\\n",
       "0  DESTINATION_AIRPORT_RHI  DESTINATION_AIRPORT_SAN  DESTINATION_AIRPORT_SFO   \n",
       "1         [0.876171984394]         [0.155642515785]          [1.14912676983]   \n",
       "\n",
       "                       105                      106                      107  \n",
       "0  DESTINATION_AIRPORT_SJU  DESTINATION_AIRPORT_TPA  DESTINATION_AIRPORT_TUS  \n",
       "1          [0.38222313591]         [0.566241036799]         [0.211281825001]  \n",
       "\n",
       "[2 rows x 108 columns]"
      ]
     },
     "execution_count": 35,
     "metadata": {},
     "output_type": "execute_result"
    }
   ],
   "source": [
    "# The coefficients that are non-zero in the training set\n",
    "#np.concatenate((X_train.columns[logitCV.coef_[0,:]>0],np.transpose(logitCV.coef_[:,logitCV.coef_[0,:]>0])), axis=0)\n",
    "#len([])\n",
    "betas = np.transpose(logitCV.coef_[:,logitCV.coef_[0,:]>0])\n",
    "features = X_train.columns[logitCV.coef_[0,:]>0]\n",
    "\n",
    "signif_betas=pd.DataFrame([features, betas])\n",
    "signif_betas"
   ]
  },
  {
   "cell_type": "markdown",
   "metadata": {
    "collapsed": true
   },
   "source": [
    "Lasso gives us an automatic sense of which variables are important and which are not.  In the above, we see that distance a flight travels, scheduled time of departure, scheduled time of arrival, size of the airport, whether the previous flight was delayed, and several different origination and desitination airports are important features (we are left with 109 non-zero beta coefficients).  Alterntively, we could have performed created bootstrap samples to determine which coefficients were different from zero."
   ]
  },
  {
   "cell_type": "markdown",
   "metadata": {
    "collapsed": true
   },
   "source": [
    "---"
   ]
  },
  {
   "cell_type": "markdown",
   "metadata": {},
   "source": [
    "6..(5pts) Evaluate your model(s) on your test set, and finally provide a visual to show which airlines are predicted to have the most delays using all the data excluding the training and test set. "
   ]
  },
  {
   "cell_type": "code",
   "execution_count": 36,
   "metadata": {
    "collapsed": true
   },
   "outputs": [],
   "source": [
    "#making ROC curves for this model\n",
    "from sklearn.metrics import roc_curve, auc\n",
    "import seaborn.apionly as sns\n",
    "\n",
    "def t_repredict(est, t, xtest):\n",
    "    probs = est.predict_proba(xtest)\n",
    "    p0 = probs[:,0]\n",
    "    p1 = probs[:,1]\n",
    "    ypred = (p1 > t)*1\n",
    "    return ypred\n",
    "\n",
    "def make_roc(name, clf, ytest, xtest, ax=None, labe=5, proba=True, skip=0):\n",
    "    initial=False\n",
    "    if not ax:\n",
    "        ax=plt.gca()\n",
    "        initial=True\n",
    "    if proba:#for stuff like logistic regression\n",
    "        fpr, tpr, thresholds=roc_curve(ytest, clf.predict_proba(xtest)[:,1])\n",
    "    else:#for stuff like SVM\n",
    "        fpr, tpr, thresholds=roc_curve(ytest, clf.decision_function(xtest))\n",
    "    roc_auc = auc(fpr, tpr)\n",
    "    if skip:\n",
    "        l=fpr.shape[0]\n",
    "        ax.plot(fpr[0:l:skip], tpr[0:l:skip], '.-', alpha=0.3, label='ROC curve for %s (area = %0.2f)' % (name, roc_auc))\n",
    "    else:\n",
    "        ax.plot(fpr, tpr, '.-', alpha=0.3, label='ROC curve for %s (area = %0.2f)' % (name, roc_auc))\n",
    "    label_kwargs = {}\n",
    "    label_kwargs['bbox'] = dict(\n",
    "        boxstyle='round,pad=0.3', alpha=0.2,\n",
    "    )\n",
    "    if labe!=None:\n",
    "        for k in range(0, fpr.shape[0],labe):\n",
    "            #from https://gist.github.com/podshumok/c1d1c9394335d86255b8\n",
    "            threshold = str(np.round(thresholds[k], 4))\n",
    "            ax.annotate((\"t = \"+threshold), (fpr[k], tpr[k]), **label_kwargs)\n",
    "    if initial:\n",
    "        ax.plot([0, 1], [0, 1], 'k--')\n",
    "        ax.set_xlim([0.0, 1.0])\n",
    "        ax.set_ylim([0.0, 1.05])\n",
    "        ax.set_xlabel('False Positive Rate')\n",
    "        ax.set_ylabel('True Positive Rate')\n",
    "        ax.set_title('ROC')\n",
    "    ax.legend(loc=\"lower right\")\n"
   ]
  },
  {
   "cell_type": "code",
   "execution_count": 37,
   "metadata": {},
   "outputs": [
    {
     "data": {
      "image/png": "[encoded data removed]",
      "text/plain": [
       "<matplotlib.figure.Figure at 0x113e77240>"
      ]
     },
     "metadata": {},
     "output_type": "display_data"
    }
   ],
   "source": [
    "#use the labeled roc curve to get a sense of what threshold should be chosen. \n",
    "#Here we will select a threshould of about 0.2 to make the classification\n",
    "ax=make_roc(\"logisticCV\",logitCV, y_test, X_test, labe=500, skip=5)"
   ]
  },
  {
   "cell_type": "code",
   "execution_count": 38,
   "metadata": {},
   "outputs": [
    {
     "name": "stderr",
     "output_type": "stream",
     "text": [
      "/Users/pavlos/anaconda2/envs/py36/lib/python3.6/site-packages/ipykernel/__main__.py:5: SettingWithCopyWarning: \n",
      "A value is trying to be set on a copy of a slice from a DataFrame.\n",
      "Try using .loc[row_indexer,col_indexer] = value instead\n",
      "\n",
      "See the caveats in the documentation: http://pandas.pydata.org/pandas-docs/stable/indexing.html#indexing-view-versus-copy\n"
     ]
    },
    {
     "data": {
      "text/plain": [
       "0.15008869965134566"
      ]
     },
     "execution_count": 38,
     "metadata": {},
     "output_type": "execute_result"
    }
   ],
   "source": [
    "#let's perform the classification for the remaining observations, \n",
    "#and we see we classify about 15% of those data to be delayed, which is fairly close\n",
    "#to what is actually observed.\n",
    "yhats_else = 1*(logitCV.predict_proba(X_else)[:,1]>=0.2)\n",
    "flightelse['yhats']=yhats_else\n",
    "np.mean(yhats_else)"
   ]
  },
  {
   "cell_type": "code",
   "execution_count": 39,
   "metadata": {},
   "outputs": [
    {
     "data": {
      "image/png": "[encoded data removed]",
      "text/plain": [
       "<matplotlib.figure.Figure at 0x1136ff780>"
      ]
     },
     "metadata": {},
     "output_type": "display_data"
    }
   ],
   "source": [
    "#now let's create a visual to see which airports are predicted to be the worst:\n",
    "\n",
    "byairlineelse = flightelse.groupby('AIRLINE')\n",
    "airline_delays_predicted = byairlineelse['yhats'].mean()\n",
    "airline_delays_predicted_sort = airline_delays_predicted.sort_values()\n",
    "\n",
    "plt.bar(range(len(airline_delays_predicted_sort)),airline_delays_predicted_sort,tick_label=list(airline_delays_predicted_sort.index))\n",
    "plt.ylabel('Predicted proportion of flights delayed')\n",
    "plt.title('Predicted proportion of flights delayed by airline')\n",
    "plt.show()"
   ]
  },
  {
   "cell_type": "markdown",
   "metadata": {},
   "source": [
    "Not surprisingly, our model predicts that Hawaiian airlines will have the lowest rate of delays, while Virgin and Spirit will have the highest rate of delays (which matches the EDA from ealier)."
   ]
  },
  {
   "cell_type": "markdown",
   "metadata": {
    "collapsed": true
   },
   "source": [
    "---"
   ]
  },
  {
   "cell_type": "markdown",
   "metadata": {},
   "source": [
    "7..(15pts) Build a regression model that predicts the length of delay (on the log scale) given that a flight is truly delayed.\n"
   ]
  },
  {
   "cell_type": "code",
   "execution_count": 40,
   "metadata": {},
   "outputs": [
    {
     "data": {
      "image/png": "[encoded data removed]",
      "text/plain": [
       "<matplotlib.figure.Figure at 0x10fc800f0>"
      ]
     },
     "metadata": {},
     "output_type": "display_data"
    }
   ],
   "source": [
    "#let's start by creating the data sets of interest for this problem\n",
    "\n",
    "delayed_train = flighttrain[flighttrain['DELAY_OR_NOT']==1] \n",
    "delayed_test = flighttest[flighttest['DELAY_OR_NOT']==1] \n",
    "\n",
    "X_train2 = X_train[flighttrain['DELAY_OR_NOT']==1]\n",
    "X_test2 = X_test[flighttest['DELAY_OR_NOT']==1] \n",
    "\n",
    "y_train2 = np.log(delayed_train['ARRIVAL_DELAY'])\n",
    "y_test2 = np.log(delayed_test['ARRIVAL_DELAY'])\n",
    "\n",
    "#plotting the histogram just to see what we are dealing with\n",
    "hist7=plt.hist(y_train2)"
   ]
  },
  {
   "cell_type": "code",
   "execution_count": 41,
   "metadata": {},
   "outputs": [
    {
     "name": "stdout",
     "output_type": "stream",
     "text": [
      "0.259285580127 0.0221741775963\n"
     ]
    }
   ],
   "source": [
    "lassoCV_model = sk.linear_model.LassoCV(n_alphas = 100)\n",
    "lassoCV_model.fit(X_train2, y_train2)\n",
    "\n",
    "linear_model = sk.linear_model.LinearRegression()\n",
    "linear_model.fit(X_train2, y_train2)\n",
    "print(linear_model.score(X_train2,y_train2),lassoCV_model.score(X_train2,y_train2))"
   ]
  },
  {
   "cell_type": "code",
   "execution_count": 42,
   "metadata": {},
   "outputs": [
    {
     "name": "stdout",
     "output_type": "stream",
     "text": [
      "-0.129881525679 0.019668832415\n"
     ]
    }
   ],
   "source": [
    " print(linear_model.score(X_test2,y_test2),lassoCV_model.score(X_test2,y_test2))\n"
   ]
  },
  {
   "cell_type": "markdown",
   "metadata": {},
   "source": [
    "Based on the model shown above, we see that the Lasso Regression model has an $R^2$ of just 0.0197 in the test set.  Surely we can do better."
   ]
  },
  {
   "cell_type": "markdown",
   "metadata": {
    "collapsed": true
   },
   "source": [
    "---"
   ]
  },
  {
   "cell_type": "markdown",
   "metadata": {},
   "source": [
    "8..(20pts) Write a report (in the last markdown cell in your notebook with your findings (without code)). Describe the main design decisions you have made with justifications. Clearly explain your methodology and results. This should not be more than 300 words. You may use up to 5 diagrams."
   ]
  },
  {
   "cell_type": "markdown",
   "metadata": {
    "collapsed": true
   },
   "source": [
    "Before fitting any models, several decisions had to be made in order to wrangle the data:\n",
    "1. We decided to drop any variables that were actual derivatives of delays or could not be measured before heading to the airport to catch a flight.  \n",
    "2. We subsampled only 20,000 observations into the training and testing sets (40K total) as this was large enough to encapsulate the most important predcictors but small enough to handle.\n",
    "3. All EDA and models were performed only on the train set as to not bias results in evaluation using the test set.\n",
    "4. When fitting models, we decided to not standardize the variables so that we could directly interpret the coefficients (for ease of interpretation).  This may have led to worse-performing models overall.\n",
    "\n",
    "In order to predict which flights will be delayed in 2015, we considered 3 models: standard logistic regression, L1-penalized logistic regression (with hyperparameter tuned through 5-fold crosvalidation), and a classification tree.  The penalized logistic regression performed the best both in the train and test sets, with an AUC score of about 0.78.  We decided to set a threshould of 0.20 for classification because this led to a similar delay rate as what was truly deserved (flagged more flights as delayed since false negatives were worse from a user perspective).  \n",
    "\n",
    "We also fit a Lasso regression (and considered an unpenalized linear regression) to predict the variables .  We again used only the subsample of data to train and evaluate the model (leading to an even smaller set of data to fit models, about 2,000 in each since about 10% of flights were delayed in the datasets).  Unfortunately we were only able to get an $R^2$ of about 2% in the test set.  With more time, we'd like to improve this model, and certainly would enlarge the data set used for both training and testing.\n",
    "\n",
    "\n",
    "*Note: these data oversampled the delayed flights and undersampled the on-time flights: thanks god!  I would hope that Spirit airlines does not truly have nearly a 30% delay rate!!!"
   ]
  },
  {
   "cell_type": "markdown",
   "metadata": {},
   "source": [
    "### 209 Additional questions\n",
    "(1). (10pts) Engineer two additional features that will help improve the classification model's performance."
   ]
  },
  {
   "cell_type": "markdown",
   "metadata": {},
   "source": [
    "This is taken and modified from Camilo Frosco's submission.\n",
    "\n",
    "We will try two features: The business of the destination airport on the date of the flight, and a binary 'bad_day' predictor, that denotes if the day is prone to delays based on historical data. Both features perform well and increase the AUC of the classification model.\n",
    "\n",
    "CODE TO COME."
   ]
  },
  {
   "cell_type": "markdown",
   "metadata": {},
   "source": [
    "(2). (5pts) Add one additional feature from a data source not given to you.  Do this only after you complete the rest of the exam.\n",
    "\n",
    "We will create a feature which tells us which airports are hubs or regional centers. This data is taken from wikipedia.\n",
    "\n",
    "CODE TO COME."
   ]
  },
  {
   "cell_type": "markdown",
   "metadata": {},
   "source": [
    "## Deliverable: \n",
    "A well presented notebook with well structured and documented code to answer questions 1-7 (plus additional questions for 209 students) with brief explanations and/or clarifications (10pts for overall presentation). The last cell should contain the report for question 8.\n",
    "\n",
    "\n",
    "\n",
    "## Hints\n",
    "1. For the classification model, an AUC of approximately 0.6 should be your base model. \n",
    "2. $R^2>0.03$ for the regression is good, $R^2>0.05$ very good, and $R^2>0.1$ is impressive (measured on the log scale). "
   ]
  },
  {
   "cell_type": "code",
   "execution_count": null,
   "metadata": {
    "collapsed": true
   },
   "outputs": [],
   "source": []
  }
 ],
 "metadata": {
  "kernelspec": {
   "display_name": "Python 3",
   "language": "python",
   "name": "python3"
  },
  "language_info": {
   "codemirror_mode": {
    "name": "ipython",
    "version": 3
   },
   "file_extension": ".py",
   "mimetype": "text/x-python",
   "name": "python",
   "nbconvert_exporter": "python",
   "pygments_lexer": "ipython3",
   "version": "3.6.1"
  },
  "latex_envs": {
   "bibliofile": "biblio.bib",
   "cite_by": "apalike",
   "current_citInitial": 1,
   "eqLabelWithNumbers": true,
   "eqNumInitial": 0
  }
 },
 "nbformat": 4,
 "nbformat_minor": 2
}
